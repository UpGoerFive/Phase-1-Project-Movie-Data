{
 "cells": [
  {
   "cell_type": "code",
   "execution_count": null,
   "metadata": {},
   "outputs": [],
   "source": [
    "crew_df = pd.read_csv('data/imdb.title.crew.csv')\n",
    "title_basics_df = pd.read_csv('data/imdb.title.basics.csv')\n",
    "principal_df = pd.read_csv('data/imdb.title.principals.csv')\n",
    "ratings_df = pd.read_csv('data/imdb.title.ratings.csv')\n",
    "Mojo_df = pd.read_csv('data/bom.movie_gross.csv')"
   ]
  }
 ],
 "metadata": {
  "language_info": {
   "name": "python"
  },
  "orig_nbformat": 4
 },
 "nbformat": 4,
 "nbformat_minor": 2
}
